{
 "cells": [
  {
   "cell_type": "code",
   "execution_count": 1,
   "metadata": {},
   "outputs": [],
   "source": [
    "%matplotlib inline\n",
    "\n",
    "import matplotlib.pyplot as plt\n",
    "import pandas as pd\n",
    "import numpy as np\n",
    "import datetime as dt\n",
    "import quandl as ql\n",
    "\n",
    "from config import quandl_api_key"
   ]
  },
  {
   "cell_type": "code",
   "execution_count": 2,
   "metadata": {},
   "outputs": [
    {
     "data": {
      "text/plain": [
       "'oaVsrcUmaesTBfV8xxgi'"
      ]
     },
     "execution_count": 2,
     "metadata": {},
     "output_type": "execute_result"
    }
   ],
   "source": [
    "quandl_api_key"
   ]
  },
  {
   "cell_type": "code",
   "execution_count": 3,
   "metadata": {},
   "outputs": [],
   "source": [
    "# [Function] Company Stock Return Data\n",
    "# Params: Stock Ticker Symbol\n",
    "# Output: <DataFrame> Weekly Stock Return Data\n",
    "\n",
    "def quandl_stock_data(symbol, verbose=False):\n",
    "    # <Define> DataFrame Column Headers\n",
    "    headers = [\n",
    "        'Open',\n",
    "        'High',\n",
    "        'Low',\n",
    "        'Close',\n",
    "        'Volume',\n",
    "    ]\n",
    "    \n",
    "    # <Set> API Query Parameters\n",
    "    query_params = {\n",
    "        'symbol': symbol.upper(),\n",
    "        'start_date': \"2014-01-01\",\n",
    "        \"end_date\": \"2019-01-01\",\n",
    "        \"collapse\": \"monthly\",\n",
    "        \"data_type\": \"pandas\",    # [numpy | pandas ] Array vs DataFrame\n",
    "    }\n",
    "        \n",
    "    try:\n",
    "        \n",
    "        # User Quandl Get to Query API\n",
    "        stock_returns = ql.get(\n",
    "            f\"WIKI/{query_params['symbol']}\",\n",
    "            start_date = query_params['start_date'],\n",
    "            end_date = query_params['end_date'],\n",
    "            colapse = query_params['collapse'],\n",
    "            returns = query_params['data_type'],\n",
    "            authtoken = quandl_api_key\n",
    "        )[headers]\n",
    "\n",
    "        # <Print> Quandl API Summary\n",
    "        if verbose:\n",
    "            print(f\"\\n[Quandl] Query API Summary:\\n\")\n",
    "            print(\"-\" * 75, \"\\n\")\n",
    "            for param, val in query_params.items():\n",
    "                print(f\"- {param}:\", val)\n",
    "\n",
    "            print(\"\\n\",(\"-\" * 75), \"\\n\")\n",
    "            print(\"\\n[Preview] Response DataFrame\\n\")\n",
    "            print(\"\\n\",stock_returns.head(10), \"\\n\")\n",
    "            print(\"-\" * 75, \"\\n\")\n",
    "            print(\"\\n[View] DataFrame Columns -- Data Uniformity\\n\")\n",
    "            print(stock_returns.count(), \"\\n\")\n",
    "            print(\"-\" * 75, \"\\n\")\n",
    "            print(\"\\n[View] DataFrame Columns -- Data Types\\n\")\n",
    "            print(stock_returns.dtypes, \"\\n\")\n",
    "\n",
    "        # Return DataFrame Containing API Response Data\n",
    "        return stock_returns\n",
    "\n",
    "    except ql.NotFoundError:\n",
    "        \n",
    "        print(f\"\\n[Error | API Query] Invalid Company Symbol: {query_params['symbol']}\")\n",
    "        return None\n"
   ]
  },
  {
   "cell_type": "code",
   "execution_count": 4,
   "metadata": {},
   "outputs": [
    {
     "name": "stdout",
     "output_type": "stream",
     "text": [
      "\n",
      "[Quandl] Query API Summary:\n",
      "\n",
      "--------------------------------------------------------------------------- \n",
      "\n",
      "- symbol: SBUX\n",
      "- start_date: 2014-01-01\n",
      "- end_date: 2019-01-01\n",
      "- collapse: monthly\n",
      "- data_type: pandas\n",
      "\n",
      " --------------------------------------------------------------------------- \n",
      "\n",
      "\n",
      "[Preview] Response DataFrame\n",
      "\n",
      "\n",
      "              Open    High     Low  Close     Volume\n",
      "Date                                               \n",
      "2014-01-02  78.07  78.270  77.005  77.17  4243600.0\n",
      "2014-01-03  77.48  77.770  76.940  76.95  3272500.0\n",
      "2014-01-06  76.90  77.350  76.010  76.17  5292700.0\n",
      "2014-01-07  76.65  77.410  76.470  77.21  4081100.0\n",
      "2014-01-08  77.28  78.147  77.190  78.03  5089400.0\n",
      "2014-01-09  78.07  78.100  76.800  77.60  4180600.0\n",
      "2014-01-10  77.56  77.990  76.950  77.67  3233500.0\n",
      "2014-01-13  77.38  77.390  74.760  75.12  7322400.0\n",
      "2014-01-14  75.12  76.355  74.750  75.46  9326600.0\n",
      "2014-01-15  75.54  76.330  75.410  76.19  4330100.0 \n",
      "\n",
      "--------------------------------------------------------------------------- \n",
      "\n",
      "\n",
      "[View] DataFrame Columns -- Data Uniformity\n",
      "\n",
      "Open      1065\n",
      "High      1065\n",
      "Low       1065\n",
      "Close     1065\n",
      "Volume    1065\n",
      "dtype: int64 \n",
      "\n",
      "--------------------------------------------------------------------------- \n",
      "\n",
      "\n",
      "[View] DataFrame Columns -- Data Types\n",
      "\n",
      "Open      float64\n",
      "High      float64\n",
      "Low       float64\n",
      "Close     float64\n",
      "Volume    float64\n",
      "dtype: object \n",
      "\n"
     ]
    }
   ],
   "source": [
    "# [Function Test | Verbose] - Query Quandl API: AMZN\n",
    "\n",
    "sbux_df = quandl_stock_data(\"SBUX\", verbose=True)"
   ]
  },
  {
   "cell_type": "code",
   "execution_count": null,
   "metadata": {},
   "outputs": [],
   "source": [
    "# Preview Stock Return DataFrame\n",
    "\n",
    "sbux_df.head(15)"
   ]
  },
  {
   "cell_type": "code",
   "execution_count": 5,
   "metadata": {},
   "outputs": [
    {
     "name": "stdout",
     "output_type": "stream",
     "text": [
      "\n",
      "[Error | API Query] Invalid Company Symbol: SPY\n"
     ]
    }
   ],
   "source": [
    "# [Test API] Force Error by Quering Invalid Symbol (No ETFS)\n",
    "\n",
    "spy_df = quandl_stock_data(\"spy\", verbose=True)"
   ]
  },
  {
   "cell_type": "code",
   "execution_count": null,
   "metadata": {},
   "outputs": [],
   "source": [
    "# View TSLA Closing Price Data Summary - Past 5 Years\n",
    "\n",
    "quandl_stock_data(\"tsla\")[\"Close\"].describe()"
   ]
  },
  {
   "cell_type": "code",
   "execution_count": null,
   "metadata": {},
   "outputs": [],
   "source": [
    "# Plot SBUX Price Data\n",
    "\n",
    "quandl_stock_data(\"SBUX\")[\"Close\"].plot()\n",
    "plt.show()"
   ]
  },
  {
   "cell_type": "code",
   "execution_count": null,
   "metadata": {},
   "outputs": [],
   "source": [
    "numpy_test = quandl_stock_data(\"amzn\", verbose=True)"
   ]
  },
  {
   "cell_type": "code",
   "execution_count": null,
   "metadata": {},
   "outputs": [],
   "source": [
    "quandl_stock_data(\"amzn\", verbose=True)"
   ]
  },
  {
   "cell_type": "code",
   "execution_count": null,
   "metadata": {},
   "outputs": [],
   "source": []
  }
 ],
 "metadata": {
  "kernelspec": {
   "display_name": "Python 3",
   "language": "python",
   "name": "python3"
  },
  "language_info": {
   "codemirror_mode": {
    "name": "ipython",
    "version": 3
   },
   "file_extension": ".py",
   "mimetype": "text/x-python",
   "name": "python",
   "nbconvert_exporter": "python",
   "pygments_lexer": "ipython3",
   "version": "3.6.7"
  }
 },
 "nbformat": 4,
 "nbformat_minor": 2
}
