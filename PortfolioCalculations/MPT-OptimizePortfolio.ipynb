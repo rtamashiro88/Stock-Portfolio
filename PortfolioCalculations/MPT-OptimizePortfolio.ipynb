{
 "cells": [
  {
   "cell_type": "code",
   "execution_count": 1,
   "metadata": {},
   "outputs": [],
   "source": [
    "%matplotlib inline\n",
    "import datetime as dt\n",
    "import pandas as pd\n",
    "import numpy as np\n",
    "\n",
    "from apidata import quandl_stock_data"
   ]
  },
  {
   "cell_type": "code",
   "execution_count": 2,
   "metadata": {},
   "outputs": [
    {
     "name": "stdout",
     "output_type": "stream",
     "text": [
      "Number of Portfolio Assets: 5\n"
     ]
    }
   ],
   "source": [
    "# Portfolio Stock Selection\n",
    "\n",
    "pfolio_assets = [\n",
    "    \"AMZN\",\n",
    "    \"JPM\",\n",
    "    \"MSFT\",\n",
    "    \"PG\",\n",
    "    \"T\",\n",
    "]\n",
    "\n",
    "print(f\"Number of Portfolio Assets: {len(pfolio_assets)}\")"
   ]
  },
  {
   "cell_type": "code",
   "execution_count": 3,
   "metadata": {},
   "outputs": [],
   "source": [
    "# Helper Functions - Optimize Portfolio\n",
    "def closing_prices(stock):\n",
    "    price_data = quandl_stock_data(stock) \\\n",
    "        .rename(columns={\"Close\": stock.upper()})[stock.upper()] \\\n",
    "        .reset_index()\n",
    "    return price_data\n",
    "\n",
    "def exp_portfolio_return(portfolio, weights):\n",
    "    log_returns = np.log(portfolio / portfolio.shift(1)).iloc[1:]\n",
    "    return round(np.sum(weights * log_returns.mean())*250, 4)\n",
    "\n",
    "def exp_portfolio_variance(portfolio, weights):\n",
    "    log_returns = np.log(portfolio / portfolio.shift(1)).iloc[1:]\n",
    "    return round(np.sqrt(np.dot(weights.T, np.dot(log_returns.cov() * 250, weights))), 4)\n",
    "\n",
    "def mod_sharpe_ratio(ERp, EVARp):\n",
    "    mkt_return = .098\n",
    "    return round((ERp - mkt_return)/EVARp, 4)"
   ]
  },
  {
   "cell_type": "code",
   "execution_count": 4,
   "metadata": {},
   "outputs": [],
   "source": [
    "# Portfolio Optimization Function\n",
    "def optimize_portfolio(assets, simulations=1000):\n",
    "    print(f'Asset: {assets[0]}')\n",
    "    num_assets = len(assets)\n",
    "    portfolio = closing_prices(assets[0])\n",
    "    for asset in assets[1:]:\n",
    "        print(f'Asset: {asset}')\n",
    "        add_stock = closing_prices(asset)\n",
    "        portfolio = pd.merge(portfolio, add_stock, on=\"Date\", how=\"inner\")\n",
    "        del add_stock\n",
    "\n",
    "    portfolio.set_index(\"Date\", inplace=True)\n",
    "\n",
    "    portfolio_log = []\n",
    "    portfolio_sim = {}\n",
    "    for i in range(simulations):\n",
    "        weights = np.random.random(num_assets)\n",
    "        weights /= np.sum(weights)\n",
    "        WTSp = zip(assets, weights)\n",
    "        RTNp = exp_portfolio_return(portfolio, weights)\n",
    "        VARp = exp_portfolio_variance(portfolio, weights)\n",
    "\n",
    "        portfolio_sim = {a: round(wt, 4) for a, wt in WTSp}\n",
    "        portfolio_sim[\"Return\"] = RTNp\n",
    "        portfolio_sim[\"Variance\"] = VARp\n",
    "        portfolio_sim[\"Sharpe\"] = mod_sharpe_ratio(RTNp, VARp)\n",
    "        portfolio_log.append(portfolio_sim)\n",
    "\n",
    "    log_df = pd.DataFrame(portfolio_log)\n",
    "    ranked_df = log_df.sort_values(\"Sharpe\", ascending=False)\n",
    "#    ranked_df = log_df.sort_values(\"Sharpe\", ascending=False) \\\n",
    "#        .set_index([\"Sharpe\", \"Return\", \"Variance\"])\n",
    "\n",
    "    return ranked_df.iloc[0]"
   ]
  },
  {
   "cell_type": "code",
   "execution_count": 5,
   "metadata": {},
   "outputs": [
    {
     "name": "stdout",
     "output_type": "stream",
     "text": [
      "Asset: AMZN\n",
      "Asset: JPM\n",
      "Asset: MSFT\n",
      "Asset: PG\n",
      "Asset: T\n"
     ]
    },
    {
     "data": {
      "text/plain": [
       "AMZN        0.9004\n",
       "JPM         0.0191\n",
       "MSFT        0.0511\n",
       "PG          0.0232\n",
       "Return      0.2937\n",
       "Sharpe      0.7203\n",
       "T           0.0063\n",
       "Variance    0.2717\n",
       "Name: 937, dtype: float64"
      ]
     },
     "execution_count": 5,
     "metadata": {},
     "output_type": "execute_result"
    }
   ],
   "source": [
    "optimize_portfolio(assets=pfolio_assets)"
   ]
  },
  {
   "cell_type": "code",
   "execution_count": null,
   "metadata": {},
   "outputs": [],
   "source": [
    "best_portfolio = optimize_portfolio(assets=pfolio_assets)"
   ]
  },
  {
   "cell_type": "code",
   "execution_count": null,
   "metadata": {},
   "outputs": [],
   "source": [
    "print('[#1] AMZN:\\t', best_portfolio[\"AMZN\"])\n",
    "print('[#2] JPM: \\t', best_portfolio[\"JPM\"])\n",
    "print('[#3] MSFT:\\t', best_portfolio[\"MSFT\"])\n",
    "print('[#4] PG:  \\t', best_portfolio[\"PG\"])\n",
    "print('[#5] T:   \\t', best_portfolio[\"T\"])\n",
    "print('\\nPortfolio Statistics:')\n",
    "print('Expected Return:\\t', best_portfolio[\"Return\"])\n",
    "print('Expected Variance:\\t', best_portfolio[\"Variance\"])\n",
    "print('Portfolio Sharpe Ratio:\\t', best_portfolio[\"Sharpe\"])"
   ]
  },
  {
   "cell_type": "code",
   "execution_count": null,
   "metadata": {},
   "outputs": [],
   "source": []
  }
 ],
 "metadata": {
  "kernelspec": {
   "display_name": "Python 3",
   "language": "python",
   "name": "python3"
  },
  "language_info": {
   "codemirror_mode": {
    "name": "ipython",
    "version": 3
   },
   "file_extension": ".py",
   "mimetype": "text/x-python",
   "name": "python",
   "nbconvert_exporter": "python",
   "pygments_lexer": "ipython3",
   "version": "3.6.7"
  }
 },
 "nbformat": 4,
 "nbformat_minor": 2
}
